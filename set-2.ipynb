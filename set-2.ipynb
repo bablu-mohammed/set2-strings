{
 "cells": [
  {
   "cell_type": "code",
   "execution_count": 3,
   "id": "254623ab",
   "metadata": {},
   "outputs": [
    {
     "name": "stdout",
     "output_type": "stream",
     "text": [
      "My name is mohammad\n",
      "My name is mohammad\n",
      "My name is mohammad\n"
     ]
    }
   ],
   "source": [
    "#1.what is a String?in how many ways u define a string:\n",
    "# A string is a sequence of characters or a group of characters.\n",
    "#>Strings are immutable and we access the elements inside the string with the help of indexing (+ve and -ve indexing)\n",
    "   \n",
    "#>We can define the string in three different ways:\n",
    "#   1.single quotes:\n",
    "var='My name is mohammad'\n",
    "print(var)\n",
    "#   2.Double quotes:\n",
    "var1=\"My name is mohammad\"\n",
    "print(var1)\n",
    "#   3.Triple quotes:\n",
    "var2=\"\"\"My name is mohammad\"\"\" \n",
    "print(var2)"
   ]
  },
  {
   "cell_type": "code",
   "execution_count": 5,
   "id": "577ddfd1",
   "metadata": {},
   "outputs": [
    {
     "name": "stdout",
     "output_type": "stream",
     "text": [
      "enter your name:Rahemath\n",
      "Good Morning Rahemath\n"
     ]
    }
   ],
   "source": [
    "#2.write a python program to display a user-entered name followed by Good Moring using input() function\n",
    "username=input(\"enter your name:\")\n",
    "print(f\"Good Morning {username}\")"
   ]
  },
  {
   "cell_type": "code",
   "execution_count": 9,
   "id": "d51608cb",
   "metadata": {},
   "outputs": [
    {
     "name": "stdout",
     "output_type": "stream",
     "text": [
      "Hi my name is Mohammad and I completed my graduation from VIGNAN UNIVERSITY.\n"
     ]
    }
   ],
   "source": [
    "#3.Write a program to detect Double spaces in a string and replace them with a single space\n",
    "name=\"Hi  my  name is Mohammad  and I completed  my  graduation  from VIGNAN  UNIVERSITY.\"\n",
    "print(name.replace(\"  \",\" \"))"
   ]
  },
  {
   "cell_type": "code",
   "execution_count": 20,
   "id": "085f26fb",
   "metadata": {},
   "outputs": [
    {
     "name": "stdout",
     "output_type": "stream",
     "text": [
      "Dear irfan, this Python course is nice.\n",
      "thanks !!\n"
     ]
    }
   ],
   "source": [
    "#4.write a program to format the following letter using escape sequence characters \n",
    "letter =\"Dear irfan, this Python course is nice.\\nthanks !!\"\n",
    "print(letter)\n"
   ]
  },
  {
   "cell_type": "code",
   "execution_count": 1,
   "id": "dfa05815",
   "metadata": {},
   "outputs": [
    {
     "name": "stdout",
     "output_type": "stream",
     "text": [
      "nafri\n"
     ]
    }
   ],
   "source": [
    "#5.Reverse an entire given string from the input function\n",
    "name=\"irfan\"\n",
    "print(name[::-1])"
   ]
  }
 ],
 "metadata": {
  "kernelspec": {
   "display_name": "Python 3 (ipykernel)",
   "language": "python",
   "name": "python3"
  },
  "language_info": {
   "codemirror_mode": {
    "name": "ipython",
    "version": 3
   },
   "file_extension": ".py",
   "mimetype": "text/x-python",
   "name": "python",
   "nbconvert_exporter": "python",
   "pygments_lexer": "ipython3",
   "version": "3.9.13"
  }
 },
 "nbformat": 4,
 "nbformat_minor": 5
}
